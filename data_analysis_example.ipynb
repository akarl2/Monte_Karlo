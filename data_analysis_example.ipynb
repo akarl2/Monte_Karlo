{
 "cells": [
  {
   "cell_type": "code",
   "execution_count": null,
   "id": "initial_id",
   "metadata": {
    "collapsed": true
   },
   "outputs": [],
   "source": [
    "import numpy as np\n",
    "import matplotlib.pyplot as plt\n",
    "from scipy.stats import norm\n",
    "import random\n",
    "\n",
    "def monte_carlo_pi(n_points=1000):\n",
    "    inside_circle = 0\n",
    "    total_points = n_points\n",
    "\n",
    "    x = np.random.uniform(-1, 1, n_points)\n",
    "    y = np.random.uniform(-1, 1, n_points)\n",
    "\n",
    "    distances = np.sqrt(x**2 + y**2)\n",
    "    inside_circle = np.sum(distances <= 1)\n",
    "\n",
    "    pi_estimate = 4 * inside_circle / total_points\n",
    "    return pi_estimate\n",
    "\n",
    "def monte_carlo_integration(func, a, b, n_points=10000):\n",
    "    x = np.random.uniform(a, b, n_points)\n",
    "    y = func(x)\n",
    "    integral = (b - a) * np.mean(y)\n",
    "    return integral\n",
    "\n",
    "def test_monte_carlo():\n",
    "    # Test PI estimation\n",
    "    pi_estimate = monte_carlo_pi(100000)\n",
    "    print(f\"PI estimation: {pi_estimate:.6f}\")\n",
    "    print(f\"Actual PI: {np.pi:.6f}\")\n",
    "    print(f\"Error: {abs(pi_estimate - np.pi):.6f}\")\n",
    "\n",
    "    # Test integration\n",
    "    def f(x): return x**2\n",
    "    integral = monte_carlo_integration(f, 0, 1, 100000)\n",
    "    actual = 1/3  # Analytical result of integral of x^2 from 0 to 1\n",
    "    print(f\"\\nIntegral estimation: {integral:.6f}\")\n",
    "    print(f\"Actual integral: {actual:.6f}\")\n",
    "    print(f\"Error: {abs(integral - actual):.6f}\")\n",
    "\n",
    "if __name__ == \"__main__\":\n",
    "    test_monte_carlo()\n",
    "\n",
    "    # Visualize PI estimation convergence\n",
    "    sample_sizes = [100, 1000, 10000, 100000]\n",
    "    estimates = [monte_carlo_pi(n) for n in sample_sizes]\n",
    "\n",
    "    plt.figure(figsize=(10, 6))\n",
    "    plt.semilogx(sample_sizes, estimates, 'bo-', label='Monte Carlo Estimation')\n",
    "    plt.axhline(y=np.pi, color='r', linestyle='--', label='Actual π')\n",
    "    plt.xlabel('Number of Points')\n",
    "    plt.ylabel('π Estimate')\n",
    "    plt.title('Monte Carlo π Estimation Convergence')\n",
    "    plt.legend()\n",
    "    plt.grid(True)\n",
    "    plt.show()"
   ]
  }
 ],
 "metadata": {
  "kernelspec": {
   "display_name": "Python 3",
   "language": "python",
   "name": "python3"
  },
  "language_info": {
   "codemirror_mode": {
    "name": "ipython",
    "version": 2
   },
   "file_extension": ".py",
   "mimetype": "text/x-python",
   "name": "python",
   "nbconvert_exporter": "python",
   "pygments_lexer": "ipython2",
   "version": "2.7.6"
  }
 },
 "nbformat": 4,
 "nbformat_minor": 5
}
